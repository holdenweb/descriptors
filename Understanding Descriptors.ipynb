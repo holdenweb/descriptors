{
 "cells": [
  {
   "cell_type": "markdown",
   "id": "500fa050",
   "metadata": {
    "slideshow": {
     "slide_type": "slide"
    }
   },
   "source": [
    "\n",
    "## Understanding Descriptors\n",
    "\n",
    "This notebook introduces the concepts behind descriptors.\n",
    "\n",
    "The descriptor underlies much of the Python language's sophistication\n",
    "but the mechanism behind it remains little known.\n",
    "\n",
    "If you install the [RISE extension](https://rise.readthedocs.io/en/latest/)\n",
    "it also displays as slides."
   ]
  },
  {
   "cell_type": "markdown",
   "id": "3bc71e17",
   "metadata": {
    "slideshow": {
     "slide_type": "slide"
    }
   },
   "source": [
    "### Unqualified name access"
   ]
  },
  {
   "cell_type": "markdown",
   "id": "93c44291",
   "metadata": {
    "slideshow": {
     "slide_type": "fragment"
    }
   },
   "source": [
    "The interpreter looks in:\n",
    "\n",
    "  1. The current function's local namespace."
   ]
  },
  {
   "cell_type": "markdown",
   "id": "bd45d950",
   "metadata": {
    "slideshow": {
     "slide_type": "fragment"
    }
   },
   "source": [
    "  2. The namespace of the module containing the function (the global namespace)."
   ]
  },
  {
   "cell_type": "markdown",
   "id": "c1fa1812",
   "metadata": {
    "slideshow": {
     "slide_type": "fragment"
    }
   },
   "source": [
    "  3. The built-in namespace."
   ]
  },
  {
   "cell_type": "markdown",
   "id": "1258f42f",
   "metadata": {
    "slideshow": {
     "slide_type": "slide"
    }
   },
   "source": [
    "If the name is not found, the interpreter raises a `NameError` exception.\n",
    "\n",
    "When functions and/or classes are lexically nested within each other this\n",
    "creates certain complexities with locality, which need not detain us here.\n",
    "\n",
    "We begin at the point where we've looked up a name\n",
    "and have a reference to some object `o`."
   ]
  },
  {
   "cell_type": "markdown",
   "id": "f27e0a0a",
   "metadata": {
    "slideshow": {
     "slide_type": "slide"
    }
   },
   "source": [
    "### Attribute access"
   ]
  },
  {
   "cell_type": "markdown",
   "id": "c1d8e1b4",
   "metadata": {
    "slideshow": {
     "slide_type": "fragment"
    }
   },
   "source": [
    "To evaluate an expression such as `o.x`\n",
    "the interpreter first resolves the unqualified name `o`\n",
    "by the means described above."
   ]
  },
  {
   "cell_type": "markdown",
   "id": "78ed1751",
   "metadata": {
    "slideshow": {
     "slide_type": "slide"
    }
   },
   "source": [
    "__To a first approximation__, it then looks for the name `x`\n",
    "\n",
    "  1. in the namespace associated with `o`\n",
    "     (usually referenceable as `o.__dict__`)\n",
    "  2. in the namespace of the object's class\n",
    "  3. in the class's superclass\n",
    "  4. in the superclass's superclass ..."
   ]
  },
  {
   "cell_type": "markdown",
   "id": "1d823b91",
   "metadata": {
    "slideshow": {
     "slide_type": "slide"
    }
   },
   "source": [
    "... and so on all the way up to `object`.\n",
    "If the search fails, the interpreter raises\n",
    "an `AttributeError` exception.\n",
    "\n",
    "As we'll see, this isn't the whole story!"
   ]
  },
  {
   "cell_type": "markdown",
   "id": "c2578c9e",
   "metadata": {
    "slideshow": {
     "slide_type": "slide"
    }
   },
   "source": [
    "The built-in `dir` function conveniently bundles\n",
    "together all (or most of) the names accessible in\n",
    "an object's namespace.\n",
    "\n",
    "Because many of the various _dunder\n",
    "names_ (those of the form `__name__`)\n",
    "are inherited from `object` I've written\n",
    "a convenience function to omit them."
   ]
  },
  {
   "cell_type": "code",
   "execution_count": 1,
   "id": "cceb98af",
   "metadata": {
    "slideshow": {
     "slide_type": "fragment"
    }
   },
   "outputs": [],
   "source": [
    "def names(obj):\n",
    "    \"Return a list of all accessible names except dunders.\"\n",
    "    return [n for n in dir(obj)\n",
    "            if not (n.startswith('__')\n",
    "                    and n.endswith('__'))]"
   ]
  },
  {
   "cell_type": "markdown",
   "id": "8b4787ed",
   "metadata": {
    "slideshow": {
     "slide_type": "slide"
    }
   },
   "source": [
    "Here's a simple class that has\n",
    "one class variable and one instance variable."
   ]
  },
  {
   "cell_type": "code",
   "execution_count": 2,
   "id": "7d7f71fc",
   "metadata": {
    "slideshow": {
     "slide_type": "fragment"
    }
   },
   "outputs": [],
   "source": [
    "class DemoObject:\n",
    "    c: int = 42\n",
    "    def __init__(self, v):\n",
    "        self.v = v\n",
    "\n",
    "o = DemoObject(21)"
   ]
  },
  {
   "cell_type": "markdown",
   "id": "5ffcc3be",
   "metadata": {
    "slideshow": {
     "slide_type": "slide"
    }
   },
   "source": [
    "Because of the name search protocol described above\n",
    "you can _reference_ class attributes as though they\n",
    "were instance attributes."
   ]
  },
  {
   "cell_type": "code",
   "execution_count": 3,
   "id": "269dd87d",
   "metadata": {
    "slideshow": {
     "slide_type": "fragment"
    }
   },
   "outputs": [
    {
     "data": {
      "text/plain": [
       "(21, 42)"
      ]
     },
     "execution_count": 3,
     "metadata": {},
     "output_type": "execute_result"
    }
   ],
   "source": [
    "o.v, o.c"
   ]
  },
  {
   "cell_type": "markdown",
   "id": "2792979c",
   "metadata": {
    "slideshow": {
     "slide_type": "slide"
    }
   },
   "source": [
    "Some attributes appear in the instance's `__dict__`,\n",
    "others appear in the class's.\n",
    "\n",
    "It all depends how the assignment is made."
   ]
  },
  {
   "cell_type": "code",
   "execution_count": 4,
   "id": "adbfe5e0",
   "metadata": {
    "slideshow": {
     "slide_type": "slide"
    }
   },
   "outputs": [
    {
     "data": {
      "text/plain": [
       "mappingproxy({'__module__': '__main__',\n",
       "              '__annotations__': {'c': int},\n",
       "              'c': 42,\n",
       "              '__init__': <function __main__.DemoObject.__init__(self, v)>,\n",
       "              '__dict__': <attribute '__dict__' of 'DemoObject' objects>,\n",
       "              '__weakref__': <attribute '__weakref__' of 'DemoObject' objects>,\n",
       "              '__doc__': None})"
      ]
     },
     "execution_count": 4,
     "metadata": {},
     "output_type": "execute_result"
    }
   ],
   "source": [
    "DemoObject.__dict__  # Shows what's defined in the class"
   ]
  },
  {
   "cell_type": "code",
   "execution_count": 5,
   "id": "65f9d890",
   "metadata": {
    "slideshow": {
     "slide_type": "fragment"
    }
   },
   "outputs": [
    {
     "data": {
      "text/plain": [
       "['c']"
      ]
     },
     "execution_count": 5,
     "metadata": {},
     "output_type": "execute_result"
    }
   ],
   "source": [
    "names(DemoObject)"
   ]
  },
  {
   "cell_type": "code",
   "execution_count": 6,
   "id": "0bcf0868",
   "metadata": {
    "slideshow": {
     "slide_type": "fragment"
    }
   },
   "outputs": [
    {
     "data": {
      "text/plain": [
       "{'v': 21}"
      ]
     },
     "execution_count": 6,
     "metadata": {},
     "output_type": "execute_result"
    }
   ],
   "source": [
    "o.__dict__"
   ]
  },
  {
   "cell_type": "markdown",
   "id": "87a5fc7c",
   "metadata": {
    "slideshow": {
     "slide_type": "slide"
    }
   },
   "source": [
    "Remember, though, that although attribute access follows the class hierarchy,\n",
    "attribute assignment (name binding) _doesn't_.\n",
    "Name binding takes place in the namespace\n",
    "of the object whose attribute is being bound.\n",
    "\n",
    "Once the name is bound in the local namespace\n",
    "that will shadow the binding in the class namespace."
   ]
  },
  {
   "cell_type": "code",
   "execution_count": 7,
   "id": "1d31e771",
   "metadata": {
    "slideshow": {
     "slide_type": "slide"
    }
   },
   "outputs": [],
   "source": [
    "o.c = 43  # Binds in the instance namespace"
   ]
  },
  {
   "cell_type": "code",
   "execution_count": 8,
   "id": "c1e0472e",
   "metadata": {
    "slideshow": {
     "slide_type": "fragment"
    }
   },
   "outputs": [
    {
     "data": {
      "text/plain": [
       "{'v': 21, 'c': 43}"
      ]
     },
     "execution_count": 8,
     "metadata": {},
     "output_type": "execute_result"
    }
   ],
   "source": [
    "o.__dict__"
   ]
  },
  {
   "cell_type": "code",
   "execution_count": 9,
   "id": "ed2e6fcc",
   "metadata": {
    "slideshow": {
     "slide_type": "fragment"
    }
   },
   "outputs": [
    {
     "data": {
      "text/plain": [
       "43"
      ]
     },
     "execution_count": 9,
     "metadata": {},
     "output_type": "execute_result"
    }
   ],
   "source": [
    "o.c"
   ]
  },
  {
   "cell_type": "code",
   "execution_count": 10,
   "id": "2f96e76a",
   "metadata": {
    "slideshow": {
     "slide_type": "fragment"
    }
   },
   "outputs": [
    {
     "data": {
      "text/plain": [
       "42"
      ]
     },
     "execution_count": 10,
     "metadata": {},
     "output_type": "execute_result"
    }
   ],
   "source": [
    "o.__class__.c  # Class variable remains unchanged"
   ]
  },
  {
   "cell_type": "markdown",
   "id": "13bc23d5",
   "metadata": {
    "slideshow": {
     "slide_type": "slide"
    }
   },
   "source": [
    "## The descriptor protocol\n",
    "\n",
    "Many programmers are familiar with _properties_.\n",
    "They are just a special case\n",
    "of a more general mechanism called the _descriptor protocol_.\n",
    "\n",
    "What's the descriptor protocol? Briefly, any type that\n",
    "implements any of the `__get__`, `__set__` or `__delete__` methods\n",
    "conforms to the protocol."
   ]
  },
  {
   "cell_type": "markdown",
   "id": "5a01c137",
   "metadata": {
    "slideshow": {
     "slide_type": "slide"
    }
   },
   "source": [
    "Time for another convenience function: we'd like to know whether\n",
    "a particular attribute is a descriptor."
   ]
  },
  {
   "cell_type": "code",
   "execution_count": 11,
   "id": "965f2292",
   "metadata": {
    "slideshow": {
     "slide_type": "fragment"
    }
   },
   "outputs": [],
   "source": [
    "def is_descriptor(p):\n",
    "    names = dir(p)  # Sees inherited names also\n",
    "    return any(n in names\n",
    "               for n in (\"__get__\", \"__set__\", \"__delete__\")\n",
    "              )"
   ]
  },
  {
   "cell_type": "markdown",
   "id": "0c73eaa8",
   "metadata": {
    "slideshow": {
     "slide_type": "slide"
    }
   },
   "source": [
    "Rather than using the `property` decorator,\n",
    "we're going to build our own descriptor.\n",
    "\n",
    "It won't have `__set__` and `__delete__` methods,\n",
    "making this a read-only\n",
    "(nowadays, a _non-overriding_) descriptor.\n",
    "I'll explain the \"non-overriding\" term later."
   ]
  },
  {
   "cell_type": "code",
   "execution_count": 80,
   "id": "7d226c44",
   "metadata": {
    "slideshow": {
     "slide_type": "fragment"
    }
   },
   "outputs": [
    {
     "ename": "SyntaxError",
     "evalue": "f-string: unmatched ')' (2026163900.py, line 6)",
     "output_type": "error",
     "traceback": [
      "\u001b[0;36m  Cell \u001b[0;32mIn[80], line 6\u001b[0;36m\u001b[0m\n\u001b[0;31m    print(f\"self: {self}\\nobj : {obj}\\ntype: {objtype)}\")\u001b[0m\n\u001b[0m                                                        ^\u001b[0m\n\u001b[0;31mSyntaxError\u001b[0m\u001b[0;31m:\u001b[0m f-string: unmatched ')'\n"
     ]
    }
   ],
   "source": [
    "class D1:\n",
    "    \"\"\"\n",
    "    Our first read-only, (non-overriding) descriptor\n",
    "    \"\"\"\n",
    "    def __get__(self, obj, objtype=None):\n",
    "        print(f\"self: {self}\\nobj : {obj}\\ntype: {objtype)}\")\n",
    "        return \"I'm a D1\""
   ]
  },
  {
   "cell_type": "markdown",
   "id": "d18c1ca9",
   "metadata": {
    "slideshow": {
     "slide_type": "slide"
    }
   },
   "source": [
    "The descriptor magic isn't immediately obvious.\n",
    "Creating a `D1` and accessing its value\n",
    "clearly doesn't call the `__get__` method."
   ]
  },
  {
   "cell_type": "code",
   "execution_count": 81,
   "id": "54044135",
   "metadata": {
    "slideshow": {
     "slide_type": "fragment"
    }
   },
   "outputs": [],
   "source": [
    "d1 = D1()"
   ]
  },
  {
   "cell_type": "code",
   "execution_count": 82,
   "id": "4504bf7b",
   "metadata": {
    "slideshow": {
     "slide_type": "fragment"
    }
   },
   "outputs": [
    {
     "data": {
      "text/plain": [
       "<__main__.D1 at 0x1084436d0>"
      ]
     },
     "execution_count": 82,
     "metadata": {},
     "output_type": "execute_result"
    }
   ],
   "source": [
    "d1"
   ]
  },
  {
   "cell_type": "markdown",
   "id": "fa37a190",
   "metadata": {
    "slideshow": {
     "slide_type": "slide"
    }
   },
   "source": [
    "The magic appears when you create\n",
    "an _instance_ of the property class\n",
    "as a class variable.\n",
    "Here's a class that does just that."
   ]
  },
  {
   "cell_type": "code",
   "execution_count": 83,
   "id": "12e66e82",
   "metadata": {
    "slideshow": {
     "slide_type": "fragment"
    }
   },
   "outputs": [],
   "source": [
    "class C1:\n",
    "    \n",
    "    d: D1 = D1()\n",
    "    \n",
    "c1 = C1()"
   ]
  },
  {
   "cell_type": "code",
   "execution_count": 84,
   "id": "7e4fe5ad",
   "metadata": {
    "slideshow": {
     "slide_type": "fragment"
    }
   },
   "outputs": [
    {
     "data": {
      "text/plain": [
       "\"I'm a D1\""
      ]
     },
     "execution_count": 84,
     "metadata": {},
     "output_type": "execute_result"
    }
   ],
   "source": [
    "c1.d"
   ]
  },
  {
   "cell_type": "markdown",
   "id": "c1daec6e",
   "metadata": {
    "slideshow": {
     "slide_type": "slide"
    }
   },
   "source": [
    "Let's examine the namespaces of C1 and its instance. Care is needed to avoid triggering unwanted descriptor behaviour!"
   ]
  },
  {
   "cell_type": "code",
   "execution_count": 85,
   "id": "16ff2a19",
   "metadata": {
    "slideshow": {
     "slide_type": "fragment"
    }
   },
   "outputs": [
    {
     "data": {
      "text/plain": [
       "['d']"
      ]
     },
     "execution_count": 85,
     "metadata": {},
     "output_type": "execute_result"
    }
   ],
   "source": [
    "names(C1)"
   ]
  },
  {
   "cell_type": "code",
   "execution_count": 86,
   "id": "1abb7ad7",
   "metadata": {
    "slideshow": {
     "slide_type": "fragment"
    }
   },
   "outputs": [
    {
     "data": {
      "text/plain": [
       "(__main__.D1, True, str, False)"
      ]
     },
     "execution_count": 86,
     "metadata": {},
     "output_type": "execute_result"
    }
   ],
   "source": [
    "(type(C1.__dict__['d']),\n",
    " is_descriptor(C1.__dict__['d']),\n",
    " type(C1.d),\n",
    " is_descriptor(C1.d)\n",
    ")"
   ]
  },
  {
   "cell_type": "markdown",
   "id": "879d0309",
   "metadata": {
    "slideshow": {
     "slide_type": "slide"
    }
   },
   "source": [
    "A slightly more adventurous descriptor lets us initialise its value."
   ]
  },
  {
   "cell_type": "code",
   "execution_count": 87,
   "id": "24390a8f",
   "metadata": {
    "slideshow": {
     "slide_type": "fragment"
    }
   },
   "outputs": [],
   "source": [
    "class D2:\n",
    "    def __init__(self, val):\n",
    "        self._v = val\n",
    "    def __get__(self, obj, objtype=None):\n",
    "        print(f\"getting _v from {obj} in {self.__class__.__name__}: {self._v!r}\")\n",
    "        return self._v"
   ]
  },
  {
   "cell_type": "code",
   "execution_count": 88,
   "id": "4568810d",
   "metadata": {
    "scrolled": true,
    "slideshow": {
     "slide_type": "slide"
    }
   },
   "outputs": [],
   "source": [
    "def desc_methods(obj):\n",
    "    \"Show which descriptor methods are implemented.\"\n",
    "    for name in (\"__get__\", \"__set__\", \"__delete__\"):\n",
    "        print(f\"{name:10}: {hasattr(obj, name)}\")"
   ]
  },
  {
   "cell_type": "code",
   "execution_count": 90,
   "id": "39dc4d27",
   "metadata": {
    "slideshow": {
     "slide_type": "fragment"
    }
   },
   "outputs": [
    {
     "name": "stdout",
     "output_type": "stream",
     "text": [
      "__get__   : True\n",
      "__set__   : False\n",
      "__delete__: False\n"
     ]
    }
   ],
   "source": [
    "desc_methods(D2)"
   ]
  },
  {
   "cell_type": "code",
   "execution_count": 91,
   "id": "a25f4413",
   "metadata": {
    "slideshow": {
     "slide_type": "slide"
    }
   },
   "outputs": [],
   "source": [
    "class C2:\n",
    "    d: D2 = D2(42)"
   ]
  },
  {
   "cell_type": "code",
   "execution_count": 92,
   "id": "7dab91cb",
   "metadata": {
    "slideshow": {
     "slide_type": "fragment"
    }
   },
   "outputs": [],
   "source": [
    "c2 = C2()"
   ]
  },
  {
   "cell_type": "code",
   "execution_count": 93,
   "id": "6a075109",
   "metadata": {
    "slideshow": {
     "slide_type": "fragment"
    }
   },
   "outputs": [
    {
     "name": "stdout",
     "output_type": "stream",
     "text": [
      "getting _v from <__main__.C2 object at 0x1083ee450> in D2: 42\n"
     ]
    },
    {
     "data": {
      "text/plain": [
       "42"
      ]
     },
     "execution_count": 93,
     "metadata": {},
     "output_type": "execute_result"
    }
   ],
   "source": [
    "c2.d "
   ]
  },
  {
   "cell_type": "markdown",
   "id": "f9224c1d",
   "metadata": {
    "slideshow": {
     "slide_type": "slide"
    }
   },
   "source": [
    "There's no `__set__` method,\n",
    "therefore assignment _isn't overridden_ by the decorator,\n",
    "and makes an entry in the instance's `__dict__`.\n",
    "\n",
    "Similarly, because there's no `__delete__`\n",
    "it can't be destroyed."
   ]
  },
  {
   "cell_type": "code",
   "execution_count": 94,
   "id": "0bb9d321",
   "metadata": {
    "slideshow": {
     "slide_type": "fragment"
    }
   },
   "outputs": [
    {
     "name": "stdout",
     "output_type": "stream",
     "text": [
      "'C2' object has no attribute 'd'\n"
     ]
    }
   ],
   "source": [
    "try:\n",
    "    del c2.d\n",
    "except AttributeError as e:\n",
    "    print(e)"
   ]
  },
  {
   "cell_type": "code",
   "execution_count": 96,
   "id": "0d0caaf8",
   "metadata": {
    "slideshow": {
     "slide_type": "slide"
    }
   },
   "outputs": [],
   "source": [
    "c2.d = 2345"
   ]
  },
  {
   "cell_type": "code",
   "execution_count": 97,
   "id": "7ead3760",
   "metadata": {
    "slideshow": {
     "slide_type": "fragment"
    }
   },
   "outputs": [
    {
     "data": {
      "text/plain": [
       "{'d': 2345}"
      ]
     },
     "execution_count": 97,
     "metadata": {},
     "output_type": "execute_result"
    }
   ],
   "source": [
    "c2.__dict__"
   ]
  },
  {
   "cell_type": "markdown",
   "id": "e0988df2",
   "metadata": {
    "slideshow": {
     "slide_type": "slide"
    }
   },
   "source": [
    "Because the descriptor is non-overriding,\n",
    "now there's a `__dict__` entry\n",
    "it's used to return the attribute value\n",
    "without calling the property's `__get__`."
   ]
  },
  {
   "cell_type": "code",
   "execution_count": 98,
   "id": "697b3c0e",
   "metadata": {
    "slideshow": {
     "slide_type": "fragment"
    }
   },
   "outputs": [
    {
     "data": {
      "text/plain": [
       "2345"
      ]
     },
     "execution_count": 98,
     "metadata": {},
     "output_type": "execute_result"
    }
   ],
   "source": [
    "c2.d "
   ]
  },
  {
   "cell_type": "markdown",
   "id": "cd325c76",
   "metadata": {
    "slideshow": {
     "slide_type": "slide"
    }
   },
   "source": [
    "### Extending a descriptor to assignment\n",
    "\n",
    "The D3 descriptor will do everything the `D2` can,\n",
    "but adds a `__set__` method making it an\n",
    "_overriding_ descriptor."
   ]
  },
  {
   "cell_type": "code",
   "execution_count": 99,
   "id": "6737f9c2",
   "metadata": {
    "slideshow": {
     "slide_type": "fragment"
    }
   },
   "outputs": [],
   "source": [
    "class D3(D2):\n",
    "    def __set__(self, instance, value):\n",
    "        self._v = value"
   ]
  },
  {
   "cell_type": "code",
   "execution_count": 100,
   "id": "45da686c",
   "metadata": {
    "slideshow": {
     "slide_type": "fragment"
    }
   },
   "outputs": [
    {
     "name": "stdout",
     "output_type": "stream",
     "text": [
      "__get__   : True\n",
      "__set__   : True\n",
      "__delete__: False\n"
     ]
    }
   ],
   "source": [
    "desc_methods(D3)"
   ]
  },
  {
   "cell_type": "code",
   "execution_count": 101,
   "id": "75b5b2ff",
   "metadata": {
    "slideshow": {
     "slide_type": "slide"
    }
   },
   "outputs": [],
   "source": [
    "class C3:\n",
    "    d: D3 = D3(\"initial\")\n",
    "\n",
    "c3 = C3()"
   ]
  },
  {
   "cell_type": "code",
   "execution_count": 102,
   "id": "f5c1fdc0",
   "metadata": {
    "slideshow": {
     "slide_type": "fragment"
    }
   },
   "outputs": [
    {
     "name": "stdout",
     "output_type": "stream",
     "text": [
      "getting _v from <__main__.C3 object at 0x1084b65d0> in D3: 'initial'\n"
     ]
    },
    {
     "data": {
      "text/plain": [
       "'initial'"
      ]
     },
     "execution_count": 102,
     "metadata": {},
     "output_type": "execute_result"
    }
   ],
   "source": [
    "c3.d"
   ]
  },
  {
   "cell_type": "code",
   "execution_count": 103,
   "id": "e5788d82",
   "metadata": {
    "slideshow": {
     "slide_type": "fragment"
    }
   },
   "outputs": [],
   "source": [
    "c3.d = \"changed\""
   ]
  },
  {
   "cell_type": "code",
   "execution_count": 104,
   "id": "6f73c2b6",
   "metadata": {
    "slideshow": {
     "slide_type": "fragment"
    }
   },
   "outputs": [
    {
     "name": "stdout",
     "output_type": "stream",
     "text": [
      "getting _v from <__main__.C3 object at 0x1084b65d0> in D3: 'changed'\n"
     ]
    },
    {
     "data": {
      "text/plain": [
       "'changed'"
      ]
     },
     "execution_count": 104,
     "metadata": {},
     "output_type": "execute_result"
    }
   ],
   "source": [
    "c3.d"
   ]
  },
  {
   "cell_type": "markdown",
   "id": "f1f85995",
   "metadata": {
    "slideshow": {
     "slide_type": "slide"
    }
   },
   "source": [
    "_REMEMBER_: The interpreter looks for an _overriding_ descriptor\n",
    "_in the class hierarchy_ **before** searching for regular instance/class variables.\n",
    "\n",
    "If found, the descriptor is used when the\n",
    "name is accessed as an attribute of the instance\n",
    "_even if an instance variable with the same name_\n",
    "as the class's property exists.\n",
    "\n",
    "This is why they are called _overriding_ descriptors."
   ]
  },
  {
   "cell_type": "code",
   "execution_count": 108,
   "id": "dcd3f67c",
   "metadata": {
    "slideshow": {
     "slide_type": "slide"
    }
   },
   "outputs": [],
   "source": [
    "class DN:\n",
    "    def __get__(self, obj, objtype=None):\n",
    "        print(f\"getting _dn from {self.__class__.__name__} instance {obj}\")\n",
    "        return obj.__dict__[\"_dn\"]\n",
    "    def __set__(self, obj, value):\n",
    "        print(f\"setting _dn in {obj} to {value!r}\")\n",
    "        obj.__dict__[\"_dn\"] = value    "
   ]
  },
  {
   "cell_type": "code",
   "execution_count": 110,
   "id": "fcfcbfb4",
   "metadata": {
    "slideshow": {
     "slide_type": "fragment"
    }
   },
   "outputs": [],
   "source": [
    "class CN:\n",
    "    d: DN = DN()  # CN.d is an instance of descriptor class DN\n",
    "\n",
    "cn = CN()"
   ]
  },
  {
   "cell_type": "code",
   "execution_count": 111,
   "id": "9d6f5511",
   "metadata": {
    "slideshow": {
     "slide_type": "slide"
    }
   },
   "outputs": [
    {
     "name": "stdout",
     "output_type": "stream",
     "text": [
      "setting _dn in <__main__.CN object at 0x1081abc10> to 12345\n"
     ]
    }
   ],
   "source": [
    "cn.d = 12345"
   ]
  },
  {
   "cell_type": "code",
   "execution_count": 112,
   "id": "26fda16b",
   "metadata": {
    "slideshow": {
     "slide_type": "fragment"
    }
   },
   "outputs": [
    {
     "name": "stdout",
     "output_type": "stream",
     "text": [
      "getting _dn from DN instance <__main__.CN object at 0x1081abc10>\n"
     ]
    },
    {
     "data": {
      "text/plain": [
       "12345"
      ]
     },
     "execution_count": 112,
     "metadata": {},
     "output_type": "execute_result"
    }
   ],
   "source": [
    "cn.d"
   ]
  },
  {
   "cell_type": "code",
   "execution_count": 113,
   "id": "b879c267",
   "metadata": {
    "slideshow": {
     "slide_type": "fragment"
    }
   },
   "outputs": [
    {
     "data": {
      "text/plain": [
       "{'_dn': 12345}"
      ]
     },
     "execution_count": 113,
     "metadata": {},
     "output_type": "execute_result"
    }
   ],
   "source": [
    "cn.__dict__"
   ]
  },
  {
   "cell_type": "markdown",
   "id": "a843ab6a",
   "metadata": {
    "slideshow": {
     "slide_type": "slide"
    }
   },
   "source": [
    "## _Q_: Why can't a class have more than one DN descriptor?"
   ]
  },
  {
   "cell_type": "markdown",
   "id": "c6108eb0",
   "metadata": {
    "slideshow": {
     "slide_type": "fragment"
    }
   },
   "source": [
    "## _A_: Because all DN descriptors save their state in the same `_dn` instance variable"
   ]
  },
  {
   "cell_type": "markdown",
   "id": "b3451ff8",
   "metadata": {
    "slideshow": {
     "slide_type": "fragment"
    }
   },
   "source": [
    "You'll find an answer to this conundrum later in this notebook."
   ]
  },
  {
   "cell_type": "markdown",
   "id": "05e02514",
   "metadata": {
    "slideshow": {
     "slide_type": "slide"
    }
   },
   "source": [
    "### Properties"
   ]
  },
  {
   "cell_type": "markdown",
   "id": "7150752c",
   "metadata": {
    "slideshow": {
     "slide_type": "fragment"
    }
   },
   "source": [
    "Properties are descriptors that many Python programmers are at least aware of.\n",
    "They don't behave quite like raw descriptors, because they are _always_ overriding."
   ]
  },
  {
   "cell_type": "markdown",
   "id": "74365a25",
   "metadata": {
    "slideshow": {
     "slide_type": "fragment"
    }
   },
   "source": [
    "Now we understand the underlying mechanism,\n",
    "let's refresh our memory about properties.\n",
    "At the same time it should reinforce the material on descriptors."
   ]
  },
  {
   "cell_type": "code",
   "execution_count": 40,
   "id": "5babe613",
   "metadata": {
    "slideshow": {
     "slide_type": "slide"
    }
   },
   "outputs": [
    {
     "name": "stdout",
     "output_type": "stream",
     "text": [
      "Help on class property in module builtins:\n",
      "\n",
      "class property(object)\n",
      " |  property(fget=None, fset=None, fdel=None, doc=None)\n",
      " |  \n",
      " |  Property attribute.\n",
      " |  \n",
      " |    fget\n",
      " |      function to be used for getting an attribute value\n",
      " |    fset\n",
      " |      function to be used for setting an attribute value\n",
      " |    fdel\n",
      " |      function to be used for del'ing an attribute\n",
      " |    doc\n",
      " |      docstring\n",
      " |  \n",
      " |  Typical use is to define a managed attribute x:\n",
      " |  \n",
      " |  class C(object):\n",
      " |      def getx(self): return self._x\n",
      " |      def setx(self, value): self._x = value\n",
      " |      def delx(self): del self._x\n",
      " |      x = property(getx, setx, delx, \"I'm the 'x' property.\")\n",
      " |  \n",
      " |  Decorators make defining new properties or modifying existing ones easy:\n",
      " |  \n",
      " |  class C(object):\n",
      " |      @property\n",
      " |      def x(self):\n",
      " |          \"I am the 'x' property.\"\n",
      " |          return self._x\n",
      " |      @x.setter\n",
      " |      def x(self, value):\n",
      " |          self._x = value\n",
      " |      @x.deleter\n",
      " |      def x(self):\n",
      " |          del self._x\n",
      " |  \n",
      " |  Methods defined here:\n",
      " |  \n",
      " |  __delete__(self, instance, /)\n",
      " |      Delete an attribute of instance.\n",
      " |  \n",
      " |  __get__(self, instance, owner=None, /)\n",
      " |      Return an attribute of instance, which is of type owner.\n",
      " |  \n",
      " |  __getattribute__(self, name, /)\n",
      " |      Return getattr(self, name).\n",
      " |  \n",
      " |  __init__(self, /, *args, **kwargs)\n",
      " |      Initialize self.  See help(type(self)) for accurate signature.\n",
      " |  \n",
      " |  __set__(self, instance, value, /)\n",
      " |      Set an attribute of instance to value.\n",
      " |  \n",
      " |  __set_name__(...)\n",
      " |      Method to set name of a property.\n",
      " |  \n",
      " |  deleter(...)\n",
      " |      Descriptor to obtain a copy of the property with a different deleter.\n",
      " |  \n",
      " |  getter(...)\n",
      " |      Descriptor to obtain a copy of the property with a different getter.\n",
      " |  \n",
      " |  setter(...)\n",
      " |      Descriptor to obtain a copy of the property with a different setter.\n",
      " |  \n",
      " |  ----------------------------------------------------------------------\n",
      " |  Static methods defined here:\n",
      " |  \n",
      " |  __new__(*args, **kwargs) from builtins.type\n",
      " |      Create and return a new object.  See help(type) for accurate signature.\n",
      " |  \n",
      " |  ----------------------------------------------------------------------\n",
      " |  Data descriptors defined here:\n",
      " |  \n",
      " |  __isabstractmethod__\n",
      " |  \n",
      " |  fdel\n",
      " |  \n",
      " |  fget\n",
      " |  \n",
      " |  fset\n",
      "\n"
     ]
    }
   ],
   "source": [
    "help(property)"
   ]
  },
  {
   "cell_type": "code",
   "execution_count": 41,
   "id": "28f7337e",
   "metadata": {
    "slideshow": {
     "slide_type": "slide"
    }
   },
   "outputs": [
    {
     "data": {
      "text/plain": [
       "['deleter', 'fdel', 'fget', 'fset', 'getter', 'setter']"
      ]
     },
     "execution_count": 41,
     "metadata": {},
     "output_type": "execute_result"
    }
   ],
   "source": [
    "names(property)"
   ]
  },
  {
   "cell_type": "markdown",
   "id": "58c0de12",
   "metadata": {
    "slideshow": {
     "slide_type": "fragment"
    }
   },
   "source": [
    "Properties define three decorators\n",
    "and three functions\n",
    "that are called from the\n",
    "`__del__`, `__get__` and `__set__` methods\n",
    "respectively when present.\n",
    "\n",
    "A simple use of a property is to define a _virtual_ or _computed attribute_.\n",
    "A simplistic example follows."
   ]
  },
  {
   "cell_type": "code",
   "execution_count": 116,
   "id": "5a1ad7d1",
   "metadata": {
    "slideshow": {
     "slide_type": "slide"
    }
   },
   "outputs": [
    {
     "data": {
      "text/plain": [
       "'Steve Holden'"
      ]
     },
     "execution_count": 116,
     "metadata": {},
     "output_type": "execute_result"
    }
   ],
   "source": [
    "class Person:\n",
    "    def __init__(self, first, last):\n",
    "        self.first = first\n",
    "        self.last = last\n",
    "    @property\n",
    "    def full_name(self):\n",
    "        return f\"{self.first} {self.last}\"\n",
    "\n",
    "me = Person(\"Steve\", \"Holden\")\n",
    "me.full_name"
   ]
  },
  {
   "cell_type": "markdown",
   "id": "b3c2877b",
   "metadata": {
    "slideshow": {
     "slide_type": "slide"
    }
   },
   "source": [
    "Any reference to the property as an instance attribute\n",
    "causes the property's `__get__` method to be called.\n",
    "The return value is the value of the attribute lookup."
   ]
  },
  {
   "cell_type": "code",
   "execution_count": 43,
   "id": "6154e241",
   "metadata": {
    "slideshow": {
     "slide_type": "fragment"
    }
   },
   "outputs": [
    {
     "data": {
      "text/plain": [
       "(str, 'Steve Holden')"
      ]
     },
     "execution_count": 43,
     "metadata": {},
     "output_type": "execute_result"
    }
   ],
   "source": [
    "type(me.full_name), me.full_name"
   ]
  },
  {
   "cell_type": "markdown",
   "id": "ca884e54",
   "metadata": {},
   "source": [
    "References to the property as a class attribute, however,\n",
    "do _not_ cause a call to the property's `__get__`,\n",
    "so the class attribute's value is the property instance."
   ]
  },
  {
   "cell_type": "code",
   "execution_count": 44,
   "id": "d0b4c58f",
   "metadata": {},
   "outputs": [
    {
     "data": {
      "text/plain": [
       "(property, <property at 0x105f0e430>)"
      ]
     },
     "execution_count": 44,
     "metadata": {},
     "output_type": "execute_result"
    }
   ],
   "source": [
    "type(Person.full_name), Person.full_name"
   ]
  },
  {
   "cell_type": "markdown",
   "id": "2d45c7c6",
   "metadata": {
    "slideshow": {
     "slide_type": "slide"
    }
   },
   "source": [
    "`Person.full_name` doesn't offer any way\n",
    "to change the composite value of the person's\n",
    "full name - its definition doesn't provide\n",
    "a setter, or a deleter."
   ]
  },
  {
   "cell_type": "code",
   "execution_count": 45,
   "id": "6d4e69fd",
   "metadata": {
    "scrolled": true,
    "slideshow": {
     "slide_type": "slide"
    }
   },
   "outputs": [
    {
     "name": "stdout",
     "output_type": "stream",
     "text": [
      "deleter   : <class 'builtin_function_or_method'>\n",
      "fdel      : <class 'NoneType'>\n",
      "fget      : <class 'function'>\n",
      "fset      : <class 'NoneType'>\n",
      "getter    : <class 'builtin_function_or_method'>\n",
      "setter    : <class 'builtin_function_or_method'>\n"
     ]
    }
   ],
   "source": [
    "for name in names(Person.full_name):\n",
    "    print(f\"{name:10}: {type(getattr(Person.full_name, name))}\")"
   ]
  },
  {
   "cell_type": "code",
   "execution_count": 46,
   "id": "c486ce98",
   "metadata": {
    "slideshow": {
     "slide_type": "fragment"
    }
   },
   "outputs": [
    {
     "data": {
      "text/plain": [
       "['first', 'last']"
      ]
     },
     "execution_count": 46,
     "metadata": {},
     "output_type": "execute_result"
    }
   ],
   "source": [
    "list(me.__dict__)"
   ]
  },
  {
   "cell_type": "code",
   "execution_count": 47,
   "id": "778a10ab",
   "metadata": {
    "slideshow": {
     "slide_type": "fragment"
    }
   },
   "outputs": [
    {
     "data": {
      "text/plain": [
       "['first', 'full_name', 'last']"
      ]
     },
     "execution_count": 47,
     "metadata": {},
     "output_type": "execute_result"
    }
   ],
   "source": [
    "names(me)"
   ]
  },
  {
   "cell_type": "code",
   "execution_count": 48,
   "id": "fce3c7b1",
   "metadata": {
    "slideshow": {
     "slide_type": "slide"
    }
   },
   "outputs": [
    {
     "name": "stdout",
     "output_type": "stream",
     "text": [
      "Exception: property 'full_name' of 'Person' object has no setter\n"
     ]
    }
   ],
   "source": [
    "try:\n",
    "    me.full_name = \"Simon Willison\"\n",
    "except Exception as e:\n",
    "    print(\"Exception:\", e)"
   ]
  },
  {
   "cell_type": "code",
   "execution_count": 49,
   "id": "d623b500",
   "metadata": {
    "slideshow": {
     "slide_type": "fragment"
    }
   },
   "outputs": [
    {
     "name": "stdout",
     "output_type": "stream",
     "text": [
      "Exception: property 'full_name' of 'Person' object has no deleter\n"
     ]
    }
   ],
   "source": [
    "try:\n",
    "    del me.full_name\n",
    "except Exception as e:\n",
    "    print(\"Exception:\", e)"
   ]
  },
  {
   "cell_type": "markdown",
   "id": "76162b3a",
   "metadata": {
    "slideshow": {
     "slide_type": "slide"
    }
   },
   "source": [
    "If a property is registered in a class, then\n",
    "it will take precedence over an entry in the\n",
    "instance's `__dict__` because _properties are always overriding_."
   ]
  },
  {
   "cell_type": "code",
   "execution_count": 50,
   "id": "9e0d22de",
   "metadata": {
    "slideshow": {
     "slide_type": "fragment"
    }
   },
   "outputs": [],
   "source": [
    "me.__dict__['full_name'] = \"Sherlock Holmes\""
   ]
  },
  {
   "cell_type": "code",
   "execution_count": 51,
   "id": "22ef3309",
   "metadata": {
    "slideshow": {
     "slide_type": "fragment"
    }
   },
   "outputs": [
    {
     "data": {
      "text/plain": [
       "'Steve Holden'"
      ]
     },
     "execution_count": 51,
     "metadata": {},
     "output_type": "execute_result"
    }
   ],
   "source": [
    "me.full_name"
   ]
  },
  {
   "cell_type": "markdown",
   "id": "fe4153a6",
   "metadata": {
    "slideshow": {
     "slide_type": "fragment"
    }
   },
   "source": [
    "Properties as instance attributes\n",
    "don't invoke the same behaviour."
   ]
  },
  {
   "cell_type": "code",
   "execution_count": 52,
   "id": "85f3cf12",
   "metadata": {
    "slideshow": {
     "slide_type": "slide"
    }
   },
   "outputs": [],
   "source": [
    "@property\n",
    "def some_prop(self):\n",
    "    return \"My very own property\"\n",
    "\n",
    "me.my_prop = some_prop"
   ]
  },
  {
   "cell_type": "code",
   "execution_count": 53,
   "id": "596b3b2c",
   "metadata": {
    "slideshow": {
     "slide_type": "fragment"
    }
   },
   "outputs": [
    {
     "data": {
      "text/plain": [
       "<property at 0x105f0dee0>"
      ]
     },
     "execution_count": 53,
     "metadata": {},
     "output_type": "execute_result"
    }
   ],
   "source": [
    "me.my_prop"
   ]
  },
  {
   "cell_type": "code",
   "execution_count": 54,
   "id": "f256fd5a",
   "metadata": {
    "slideshow": {
     "slide_type": "fragment"
    }
   },
   "outputs": [
    {
     "data": {
      "text/plain": [
       "property"
      ]
     },
     "execution_count": 54,
     "metadata": {},
     "output_type": "execute_result"
    }
   ],
   "source": [
    "type(some_prop)"
   ]
  },
  {
   "cell_type": "markdown",
   "id": "ee1209b5",
   "metadata": {
    "slideshow": {
     "slide_type": "slide"
    }
   },
   "source": [
    "We find that a property is indeed a descriptor."
   ]
  },
  {
   "cell_type": "code",
   "execution_count": 55,
   "id": "fc71a798",
   "metadata": {
    "slideshow": {
     "slide_type": "fragment"
    }
   },
   "outputs": [
    {
     "data": {
      "text/plain": [
       "['deleter', 'fdel', 'fget', 'fset', 'getter', 'setter']"
      ]
     },
     "execution_count": 55,
     "metadata": {},
     "output_type": "execute_result"
    }
   ],
   "source": [
    "names(property)"
   ]
  },
  {
   "cell_type": "code",
   "execution_count": 56,
   "id": "3aefe4ad",
   "metadata": {
    "slideshow": {
     "slide_type": "fragment"
    }
   },
   "outputs": [
    {
     "name": "stdout",
     "output_type": "stream",
     "text": [
      "__get__   : True\n",
      "__set__   : True\n",
      "__delete__: True\n"
     ]
    }
   ],
   "source": [
    "desc_methods(Person.full_name)"
   ]
  },
  {
   "cell_type": "code",
   "execution_count": 57,
   "id": "d81416ad",
   "metadata": {
    "scrolled": true,
    "slideshow": {
     "slide_type": "fragment"
    }
   },
   "outputs": [
    {
     "data": {
      "text/plain": [
       "(True, <property at 0x105f0e430>)"
      ]
     },
     "execution_count": 57,
     "metadata": {},
     "output_type": "execute_result"
    }
   ],
   "source": [
    "is_descriptor(Person.full_name), Person.full_name"
   ]
  },
  {
   "cell_type": "markdown",
   "id": "11ef9509",
   "metadata": {
    "slideshow": {
     "slide_type": "slide"
    }
   },
   "source": [
    "When the descriptor is looked up as an instance attribute,\n",
    "however,\n",
    "the value returned is generated by calling the descriptor's\n",
    "`__get__` method."
   ]
  },
  {
   "cell_type": "code",
   "execution_count": 58,
   "id": "b2c75728",
   "metadata": {
    "scrolled": true,
    "slideshow": {
     "slide_type": "fragment"
    }
   },
   "outputs": [
    {
     "data": {
      "text/plain": [
       "(False, 'Steve Holden')"
      ]
     },
     "execution_count": 58,
     "metadata": {},
     "output_type": "execute_result"
    }
   ],
   "source": [
    "is_descriptor(me.full_name), me.full_name"
   ]
  },
  {
   "cell_type": "markdown",
   "id": "92b88534",
   "metadata": {
    "slideshow": {
     "slide_type": "slide"
    }
   },
   "source": [
    "## _Question_: Why can't a class have more than one DN descriptor?\n",
    "\n",
    "### _Answer_: because all descriptor instances would try to use the same instance variable of the client class's instances."
   ]
  },
  {
   "cell_type": "markdown",
   "id": "3de92424",
   "metadata": {
    "slideshow": {
     "slide_type": "slide"
    }
   },
   "source": [
    "## Bonus material\n",
    "\n",
    "Use this as the basis for further investigations.\n",
    "Here are descriptors I wrote for the ticketing project.\n",
    "\n",
    "The main goal was canonicalisation: sometimes strings\n",
    "were being assigned and an integer was required, for example.\n",
    "\n",
    "Several things are of potential interest."
   ]
  },
  {
   "cell_type": "markdown",
   "id": "7dfd6080",
   "metadata": {
    "slideshow": {
     "slide_type": "slide"
    }
   },
   "source": [
    "  1. When default values are provided they _cannot_ be positional\n",
    "     (That's the purpose of the `*` in the method signature).\n",
    "  2. The [__set_name__ method](https://docs.python.org/3/reference/datamodel.html#object.__set_name__)\n",
    "     is used to determine the name bound\n",
    "     to the descriptor in its client class.\n",
    " 3. This allows different instances of the same descriptor\n",
    "     to coexist within a class definition,\n",
    "     so you need not define each one as a distinct class."
   ]
  },
  {
   "cell_type": "code",
   "execution_count": 59,
   "id": "e5807b76",
   "metadata": {
    "slideshow": {
     "slide_type": "slide"
    }
   },
   "outputs": [],
   "source": [
    "class StringInt:\n",
    "    def __init__(self, *, default=0):\n",
    "        self._default = default\n",
    "    def __set_name__(self, owner, name):\n",
    "        self._name = \"_\" + name\n",
    "    def __get__(self, obj, type):\n",
    "        if obj is None:\n",
    "            return self._default\n",
    "        return getattr(obj, self._name, self._default)\n",
    "    def __set__(self, obj, value):\n",
    "        setattr(obj, self._name, int(value))"
   ]
  },
  {
   "cell_type": "code",
   "execution_count": 60,
   "id": "04983296",
   "metadata": {
    "slideshow": {
     "slide_type": "slide"
    }
   },
   "outputs": [],
   "source": [
    "class StringBool:\n",
    "    def __init__(self, *, default='FALSE'):\n",
    "        self._default = default\n",
    "    def __set_name__(self, owner, name):\n",
    "        self._name = \"_\" + name\n",
    "    def __get__(self, obj, type):\n",
    "        if obj is None:\n",
    "            return self._default\n",
    "        return getattr(obj, self._name, self._default)\n",
    "    def __set__(self, obj, value):\n",
    "        setattr(obj, self._name, value in [\"TRUE\", \"True\", \"1\", 1, True])"
   ]
  },
  {
   "cell_type": "markdown",
   "id": "4238099b",
   "metadata": {
    "slideshow": {
     "slide_type": "slide"
    }
   },
   "source": [
    "### Further reading\n",
    "\n",
    "- [Descriptor How-To Guide](https://docs.python.org/3/howto/descriptor.html)\n",
    "  by Raymond Hettinger.\n",
    "  Uses older terminology\n",
    "  (_data_ and _non-data_ rather than\n",
    "  _overriding_ and _non-overriding_)."
   ]
  },
  {
   "cell_type": "markdown",
   "id": "09eaa515",
   "metadata": {
    "slideshow": {
     "slide_type": "slide"
    }
   },
   "source": [
    "## Nick Fitzsimmons asked ...\n",
    "\n",
    "A descriptor whose definition deleted itself (!)."
   ]
  },
  {
   "cell_type": "code",
   "execution_count": 127,
   "id": "a9e74a52",
   "metadata": {
    "slideshow": {
     "slide_type": "fragment"
    }
   },
   "outputs": [],
   "source": [
    "class StringInt:\n",
    "    def __init__(self, *, default=0):\n",
    "        self._default = default\n",
    "    def __set_name__(self, owner, name):\n",
    "        del owner.__dict__[name]  # <<<<<<<<<<<<<<<<<<<\n",
    "    def __get__(self, obj, type):\n",
    "        if obj is None:\n",
    "            return self._default\n",
    "        return getattr(obj, self._name, self._default)\n",
    "    def __set__(self, obj, value):\n",
    "        setattr(obj, self._name, int(value))"
   ]
  },
  {
   "cell_type": "code",
   "execution_count": 126,
   "id": "eda11269",
   "metadata": {
    "slideshow": {
     "slide_type": "slide"
    }
   },
   "outputs": [
    {
     "name": "stdout",
     "output_type": "stream",
     "text": [
      "RuntimeError: Error calling __set_name__ on 'StringInt' instance 'si' in 'User'\n"
     ]
    }
   ],
   "source": [
    "try:\n",
    "    class User:\n",
    "        si: StringInt = StringInt()\n",
    "except RuntimeError as e:\n",
    "    print(\"RuntimeError:\", e)"
   ]
  },
  {
   "cell_type": "markdown",
   "id": "773297df",
   "metadata": {
    "slideshow": {
     "slide_type": "fragment"
    }
   },
   "source": [
    "The actual issue is that `__set_name__` tries to modify\n",
    "the class `__dict__`, which you may remember is a\n",
    "(read-only) `mappingproxy` object."
   ]
  },
  {
   "cell_type": "markdown",
   "id": "d80bee2d",
   "metadata": {
    "slideshow": {
     "slide_type": "fragment"
    }
   },
   "source": [
    "Conclusion: not without getting _really_ tricky!"
   ]
  },
  {
   "cell_type": "markdown",
   "id": "4caf59e9",
   "metadata": {
    "slideshow": {
     "slide_type": "slide"
    }
   },
   "source": [
    "### Functions are descriptors"
   ]
  },
  {
   "cell_type": "code",
   "execution_count": 63,
   "id": "e94fec97",
   "metadata": {
    "slideshow": {
     "slide_type": "fragment"
    }
   },
   "outputs": [
    {
     "data": {
      "text/plain": [
       "function"
      ]
     },
     "execution_count": 63,
     "metadata": {},
     "output_type": "execute_result"
    }
   ],
   "source": [
    "type(desc_methods)"
   ]
  },
  {
   "cell_type": "code",
   "execution_count": 64,
   "id": "d000b102",
   "metadata": {
    "slideshow": {
     "slide_type": "fragment"
    }
   },
   "outputs": [
    {
     "data": {
      "text/plain": [
       "True"
      ]
     },
     "execution_count": 64,
     "metadata": {},
     "output_type": "execute_result"
    }
   ],
   "source": [
    "is_descriptor(desc_methods)"
   ]
  },
  {
   "cell_type": "code",
   "execution_count": 128,
   "id": "d2639a2e",
   "metadata": {
    "slideshow": {
     "slide_type": "fragment"
    }
   },
   "outputs": [
    {
     "name": "stdout",
     "output_type": "stream",
     "text": [
      "__get__   : True\n",
      "__set__   : False\n",
      "__delete__: False\n"
     ]
    }
   ],
   "source": [
    "desc_methods(desc_methods)"
   ]
  },
  {
   "cell_type": "markdown",
   "id": "89a2580a",
   "metadata": {
    "slideshow": {
     "slide_type": "slide"
    }
   },
   "source": [
    "#### Question\n",
    "\n",
    "Why are functions descriptors? What advantages does this confer?"
   ]
  },
  {
   "cell_type": "code",
   "execution_count": 129,
   "id": "19b1e828",
   "metadata": {
    "slideshow": {
     "slide_type": "fragment"
    }
   },
   "outputs": [
    {
     "data": {
      "text/plain": [
       "[]"
      ]
     },
     "execution_count": 129,
     "metadata": {},
     "output_type": "execute_result"
    }
   ],
   "source": [
    "names(desc_methods)"
   ]
  },
  {
   "cell_type": "code",
   "execution_count": 131,
   "id": "c278509c",
   "metadata": {
    "slideshow": {
     "slide_type": "fragment"
    }
   },
   "outputs": [
    {
     "name": "stdout",
     "output_type": "stream",
     "text": [
      "__get__   : True\n",
      "__set__   : False\n",
      "__delete__: False\n"
     ]
    }
   ],
   "source": [
    "desc_methods.__get__(desc_methods)()"
   ]
  },
  {
   "cell_type": "code",
   "execution_count": 69,
   "id": "81227094",
   "metadata": {
    "slideshow": {
     "slide_type": "slide"
    }
   },
   "outputs": [
    {
     "data": {
      "text/plain": [
       "mappingproxy({'__new__': <function function.__new__(*args, **kwargs)>,\n",
       "              '__repr__': <slot wrapper '__repr__' of 'function' objects>,\n",
       "              '__call__': <slot wrapper '__call__' of 'function' objects>,\n",
       "              '__get__': <slot wrapper '__get__' of 'function' objects>,\n",
       "              '__closure__': <member '__closure__' of 'function' objects>,\n",
       "              '__doc__': <member '__doc__' of 'function' objects>,\n",
       "              '__globals__': <member '__globals__' of 'function' objects>,\n",
       "              '__module__': <member '__module__' of 'function' objects>,\n",
       "              '__builtins__': <member '__builtins__' of 'function' objects>,\n",
       "              '__code__': <attribute '__code__' of 'function' objects>,\n",
       "              '__defaults__': <attribute '__defaults__' of 'function' objects>,\n",
       "              '__kwdefaults__': <attribute '__kwdefaults__' of 'function' objects>,\n",
       "              '__annotations__': <attribute '__annotations__' of 'function' objects>,\n",
       "              '__dict__': <attribute '__dict__' of 'function' objects>,\n",
       "              '__name__': <attribute '__name__' of 'function' objects>,\n",
       "              '__qualname__': <attribute '__qualname__' of 'function' objects>})"
      ]
     },
     "execution_count": 69,
     "metadata": {},
     "output_type": "execute_result"
    }
   ],
   "source": [
    "desc_methods.__class__.__dict__"
   ]
  },
  {
   "cell_type": "markdown",
   "id": "39a75567",
   "metadata": {
    "slideshow": {
     "slide_type": "slide"
    }
   },
   "source": [
    "## Here endeth the notebook\n",
    "\n",
    "I hope this little tour through descriptors has not only\n",
    "explained an important Python mechanism,\n",
    "but also\n",
    "encouraged you to be adventurous\n",
    "in using notebooks or the interactive interpreter\n",
    "to explore Python's lesser-known corners."
   ]
  }
 ],
 "metadata": {
  "celltoolbar": "Slideshow",
  "kernelspec": {
   "display_name": "Python 3 (ipykernel)",
   "language": "python",
   "name": "python3"
  },
  "language_info": {
   "codemirror_mode": {
    "name": "ipython",
    "version": 3
   },
   "file_extension": ".py",
   "mimetype": "text/x-python",
   "name": "python",
   "nbconvert_exporter": "python",
   "pygments_lexer": "ipython3",
   "version": "3.11.5"
  }
 },
 "nbformat": 4,
 "nbformat_minor": 5
}
